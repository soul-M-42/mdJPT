{
 "cells": [
  {
   "cell_type": "markdown",
   "metadata": {},
   "source": [
    "# mdJPT: multi-dataset Joint Pretrain Transformer for emotion decoder from EEG\n",
    "\n",
    "[![License](https://img.shields.io/badge/license-MIT-blue.svg)](LICENSE)\n",
    "\n",
    "Brief project description (1-2 sentences).\n",
    "\n",
    "## Features\n",
    "- Core feature 1\n",
    "- Core feature 2\n",
    "- End-to-end pipeline via `run_pipeline.sh`\n",
    "\n",
    "## Run\n",
    "```bash\n",
    "bash run_pipeline.sh\n",
    "```\n",
    "\n",
    "#### Note: To modify the run parameter, adjust cfgs_multi/config_multi.yaml.\n",
    "\n",
    "to pretrain and test on your own dataset, you should add a new data config yaml file under cfg_multi/data folder, then assign it in cfgs_multi/config_multi.yaml, in defaults.data_0~4 (for pretrain) and data_val (for validation).\n"
   ]
  },
  {
   "cell_type": "markdown",
   "metadata": {},
   "source": []
  },
  {
   "cell_type": "markdown",
   "metadata": {},
   "source": []
  }
 ],
 "metadata": {
  "language_info": {
   "name": "python"
  }
 },
 "nbformat": 4,
 "nbformat_minor": 2
}
